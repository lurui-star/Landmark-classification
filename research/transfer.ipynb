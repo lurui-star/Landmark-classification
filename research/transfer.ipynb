{
 "cells": [
  {
   "cell_type": "code",
   "execution_count": 1,
   "metadata": {},
   "outputs": [],
   "source": [
    "import os"
   ]
  },
  {
   "cell_type": "code",
   "execution_count": 2,
   "metadata": {},
   "outputs": [],
   "source": [
    "os.chdir(\"../\")"
   ]
  },
  {
   "cell_type": "code",
   "execution_count": 3,
   "metadata": {},
   "outputs": [],
   "source": [
    "import torch\n",
    "import torchvision\n",
    "import torchvision.models as models\n",
    "import torch.nn as nn"
   ]
  },
  {
   "cell_type": "code",
   "execution_count": 4,
   "metadata": {},
   "outputs": [],
   "source": [
    "def get_model_transfer_learning(model_name=\"resnet18\", n_classes=50):\n",
    "\n",
    "    # Get the requested architecture\n",
    "    if hasattr(models, model_name):\n",
    "\n",
    "        model_transfer = getattr(models, model_name)(pretrained=True)\n",
    "\n",
    "    else:\n",
    "\n",
    "        torchvision_major_minor = \".\".join(torchvision.__version__.split(\".\")[:2])\n",
    "\n",
    "        raise ValueError(f\"Model {model_name} is not known. List of available models: \"\n",
    "                         f\"https://pytorch.org/vision/{torchvision_major_minor}/models.html\")\n",
    "\n",
    "    # Freeze all parameters in the model\n",
    "    # HINT: loop over all parameters. If \"param\" is one parameter,\n",
    "    # \"param.requires_grad = False\" freezes it\n",
    "    # YOUR CODE HERE\n",
    "    for param in model_transfer.parameters():\n",
    "        param.requires_grad = False\n",
    "\n",
    "    # Add the linear layer at the end with the appropriate number of classes\n",
    "    # 1. get numbers of features extracted by the backbone\n",
    "    # 2. Create a new linear layer with the appropriate number of inputs and\n",
    "    #    outputs\n",
    "    \n",
    "    if model_name == \"mobilenet_v3_large\":\n",
    "        num_ftrs = model_transfer.classifier[-1].in_features\n",
    "        # Replace the last layer\n",
    "        model_transfer.classifier[-1] = nn.Linear(num_ftrs, n_classes)\n",
    "    elif model_name == \"googlenet\":\n",
    "        num_ftrs = model_transfer.fc.in_features\n",
    "        # Replace the last layer\n",
    "        model_transfer.fc = nn.Linear(num_ftrs, n_classes)\n",
    "    else:\n",
    "        num_ftrs = model_transfer.fc.in_features\n",
    "        # Replace the last layer\n",
    "        model_transfer.fc = nn.Linear(num_ftrs, n_classes)\n",
    " \n",
    "    return model_transfer"
   ]
  },
  {
   "cell_type": "code",
   "execution_count": null,
   "metadata": {},
   "outputs": [],
   "source": []
  }
 ],
 "metadata": {
  "kernelspec": {
   "display_name": "cnn_classify",
   "language": "python",
   "name": "cnn_classfify"
  },
  "language_info": {
   "codemirror_mode": {
    "name": "ipython",
    "version": 3
   },
   "file_extension": ".py",
   "mimetype": "text/x-python",
   "name": "python",
   "nbconvert_exporter": "python",
   "pygments_lexer": "ipython3",
   "version": "3.10.16"
  }
 },
 "nbformat": 4,
 "nbformat_minor": 2
}
