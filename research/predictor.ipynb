{
 "cells": [
  {
   "cell_type": "code",
   "execution_count": 5,
   "metadata": {},
   "outputs": [],
   "source": [
    "import os\n"
   ]
  },
  {
   "cell_type": "code",
   "execution_count": 6,
   "metadata": {},
   "outputs": [
    {
     "data": {
      "text/plain": [
       "'/Users/ruilu/Landmark-classification/research'"
      ]
     },
     "execution_count": 6,
     "metadata": {},
     "output_type": "execute_result"
    }
   ],
   "source": [
    "%pwd"
   ]
  },
  {
   "cell_type": "code",
   "execution_count": 7,
   "metadata": {},
   "outputs": [],
   "source": [
    "os.chdir(\"../\")"
   ]
  },
  {
   "cell_type": "code",
   "execution_count": 8,
   "metadata": {},
   "outputs": [
    {
     "data": {
      "text/plain": [
       "'/Users/ruilu/Landmark-classification'"
      ]
     },
     "execution_count": 8,
     "metadata": {},
     "output_type": "execute_result"
    }
   ],
   "source": [
    "%pwd"
   ]
  },
  {
   "cell_type": "code",
   "execution_count": 9,
   "metadata": {},
   "outputs": [],
   "source": [
    "import torch\n",
    "import numpy as np\n",
    "from torch import nn\n",
    "import torch.nn.functional as F\n",
    "from tqdm import tqdm\n",
    "from torchvision import datasets\n",
    "import torchvision.transforms as T\n",
    "from src.helper import get_data_location"
   ]
  },
  {
   "cell_type": "code",
   "execution_count": 10,
   "metadata": {},
   "outputs": [],
   "source": [
    "class Predictor(nn.Module):\n",
    "\n",
    "    def __init__(self, model, class_names, mean, std):\n",
    "        super().__init__()\n",
    "\n",
    "        self.model = model.eval()\n",
    "        self.class_names = class_names\n",
    "\n",
    "        # We use nn.Sequential and not nn.Compose because the former\n",
    "        # is compatible with torch.script, while the latter isn't\n",
    "        self.transforms = nn.Sequential(\n",
    "            T.Resize([256, ]),  # We use single int value inside a list due to torchscript type restrictions\n",
    "            T.CenterCrop(224),\n",
    "            T.ConvertImageDtype(torch.float),\n",
    "            T.Normalize(mean.tolist(), std.tolist())\n",
    "        )\n",
    "\n",
    "    def forward(self, x: torch.Tensor) -> torch.Tensor:\n",
    "        with torch.no_grad():\n",
    "            # 1. apply transforms\n",
    "            x  = self.transforms(x)# YOUR CODE HERE\n",
    "            # 2. get the logits\n",
    "            x  = self.model(x)  # YOUR CODE HERE\n",
    "            # 3. apply softmax\n",
    "            #    HINT: remmeber to apply softmax across dim=1\n",
    "            x  = F.softmax(x, dim=1)# YOUR CODE HERE\n",
    "\n",
    "            return x\n"
   ]
  },
  {
   "cell_type": "code",
   "execution_count": 11,
   "metadata": {},
   "outputs": [],
   "source": [
    "def predictor_test(test_dataloader, model_reloaded):\n",
    "    \"\"\"\n",
    "    Test the predictor. Since the predictor does not operate on the same tensors\n",
    "    as the non-wrapped model, we need a specific test function (can't use one_epoch_test)\n",
    "    \"\"\"\n",
    "\n",
    "    folder = get_data_location()\n",
    "    test_data = datasets.ImageFolder(os.path.join(folder, \"test\"), transform=T.ToTensor())\n",
    "\n",
    "    pred = []\n",
    "    truth = []\n",
    "    for x in tqdm(test_data, total=len(test_dataloader.dataset), leave=True, ncols=80):\n",
    "        softmax = model_reloaded(x[0].unsqueeze(dim=0))\n",
    "\n",
    "        idx = softmax.squeeze().argmax()\n",
    "\n",
    "        pred.append(int(x[1]))\n",
    "        truth.append(int(idx))\n",
    "\n",
    "    pred = np.array(pred)\n",
    "    truth = np.array(truth)\n",
    "\n",
    "    print(f\"Accuracy: {(pred==truth).sum() / pred.shape[0]}\")\n",
    "\n",
    "    return truth, pred"
   ]
  }
 ],
 "metadata": {
  "kernelspec": {
   "display_name": "cnn_classify",
   "language": "python",
   "name": "cnn_classfify"
  },
  "language_info": {
   "codemirror_mode": {
    "name": "ipython",
    "version": 3
   },
   "file_extension": ".py",
   "mimetype": "text/x-python",
   "name": "python",
   "nbconvert_exporter": "python",
   "pygments_lexer": "ipython3",
   "version": "3.10.16"
  }
 },
 "nbformat": 4,
 "nbformat_minor": 2
}
