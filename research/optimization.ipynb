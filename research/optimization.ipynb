{
 "cells": [
  {
   "cell_type": "code",
   "execution_count": 1,
   "metadata": {},
   "outputs": [],
   "source": [
    "import os "
   ]
  },
  {
   "cell_type": "code",
   "execution_count": 2,
   "metadata": {},
   "outputs": [
    {
     "data": {
      "text/plain": [
       "'/Users/ruilu/Landmark-classification/research'"
      ]
     },
     "execution_count": 2,
     "metadata": {},
     "output_type": "execute_result"
    }
   ],
   "source": [
    "%pwd"
   ]
  },
  {
   "cell_type": "code",
   "execution_count": 3,
   "metadata": {},
   "outputs": [],
   "source": [
    "os.chdir(\"../\")"
   ]
  },
  {
   "cell_type": "code",
   "execution_count": 4,
   "metadata": {},
   "outputs": [
    {
     "data": {
      "text/plain": [
       "'/Users/ruilu/Landmark-classification'"
      ]
     },
     "execution_count": 4,
     "metadata": {},
     "output_type": "execute_result"
    }
   ],
   "source": [
    "%pwd"
   ]
  },
  {
   "cell_type": "code",
   "execution_count": 5,
   "metadata": {},
   "outputs": [],
   "source": [
    "import torch\n",
    "import torch.nn as nn\n",
    "import torch.optim"
   ]
  },
  {
   "cell_type": "code",
   "execution_count": 6,
   "metadata": {},
   "outputs": [],
   "source": [
    "def get_loss():\n",
    "    \"\"\"\n",
    "    Get an instance of the CrossEntropyLoss (useful for classification),\n",
    "    optionally moving it to the GPU if use_cuda is set to True\n",
    "    \"\"\"\n",
    "\n",
    "    # YOUR CODE HERE: select a loss appropriate for classification\n",
    "    loss  =  nn.CrossEntropyLoss() # YOUR CODE HERE\n",
    "\n",
    "    return loss"
   ]
  },
  {
   "cell_type": "code",
   "execution_count": null,
   "metadata": {},
   "outputs": [],
   "source": [
    "def get_optimizer(\n",
    "    model: nn.Module,\n",
    "    optimizer: str = \"SGD\",\n",
    "    learning_rate: float = 0.01,\n",
    "    momentum: float = 0.5,\n",
    "    weight_decay: float = 0,\n",
    "):\n",
    "    \"\"\"\n",
    "    Returns an optimizer instance\n",
    "\n",
    "    :param model: the model to optimize\n",
    "    :param optimizer: one of 'SGD' or 'Adam'\n",
    "    :param learning_rate: the learning rate\n",
    "    :param momentum: the momentum (if the optimizer uses it)\n",
    "    :param weight_decay: regularization coefficient\n",
    "    \"\"\"\n",
    "    if optimizer.lower() == \"sgd\":\n",
    "        # YOUR CODE HERE: create an instance of the SGD\n",
    "        # optimizer. Use the input parameters learning_rate, momentum\n",
    "        # and weight_decay\n",
    "        \n",
    "        opt = torch.optim.SGD(\n",
    "            # YOUR CODE HERE\n",
    "          model.parameters(),\n",
    "          lr=learning_rate,\n",
    "          momentum=momentum,\n",
    "          weight_decay=weight_decay\n",
    "        )\n",
    "\n",
    "    elif optimizer.lower() == \"adam\":\n",
    "        # YOUR CODE HERE: create an instance of the Adam\n",
    "        # optimizer. Use the input parameters learning_rate, momentum\n",
    "        # and weight_decay\n",
    "        opt = torch.optim.Adam(\n",
    "            # YOUR CODE HERE\n",
    "         model.parameters(),\n",
    "         lr=learning_rate,\n",
    "         weight_decay=weight_decay\n",
    "        )\n",
    "    else:\n",
    "        raise ValueError(f\"Optimizer {optimizer} not supported\")\n",
    "\n",
    "    return opt\n"
   ]
  }
 ],
 "metadata": {
  "kernelspec": {
   "display_name": "cnn_classify",
   "language": "python",
   "name": "cnn_classfify"
  },
  "language_info": {
   "codemirror_mode": {
    "name": "ipython",
    "version": 3
   },
   "file_extension": ".py",
   "mimetype": "text/x-python",
   "name": "python",
   "nbconvert_exporter": "python",
   "pygments_lexer": "ipython3",
   "version": "3.10.16"
  }
 },
 "nbformat": 4,
 "nbformat_minor": 2
}
