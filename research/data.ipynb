{
 "cells": [
  {
   "cell_type": "code",
   "execution_count": 16,
   "metadata": {},
   "outputs": [],
   "source": [
    "import math\n",
    "import torch\n",
    "import torch.utils.data\n",
    "from pathlib import Path\n",
    "from torchvision import datasets, transforms\n",
    "import multiprocessing\n",
    "import matplotlib.pyplot as plt\n",
    "import os\n"
   ]
  },
  {
   "cell_type": "code",
   "execution_count": 18,
   "metadata": {},
   "outputs": [
    {
     "data": {
      "text/plain": [
       "'/Users/ruilu/Landmark-classification/research'"
      ]
     },
     "execution_count": 18,
     "metadata": {},
     "output_type": "execute_result"
    }
   ],
   "source": [
    "%pwd"
   ]
  },
  {
   "cell_type": "code",
   "execution_count": 21,
   "metadata": {},
   "outputs": [],
   "source": [
    "os.chdir(\"../\")"
   ]
  },
  {
   "cell_type": "code",
   "execution_count": 22,
   "metadata": {},
   "outputs": [
    {
     "data": {
      "text/plain": [
       "'/Users/ruilu/Landmark-classification'"
      ]
     },
     "execution_count": 22,
     "metadata": {},
     "output_type": "execute_result"
    }
   ],
   "source": [
    "%pwd"
   ]
  },
  {
   "cell_type": "code",
   "execution_count": 24,
   "metadata": {},
   "outputs": [],
   "source": [
    "from src.helper import compute_mean_and_std, get_data_location"
   ]
  },
  {
   "cell_type": "code",
   "execution_count": 27,
   "metadata": {},
   "outputs": [],
   "source": [
    "def get_data_loaders(\n",
    "    batch_size: int = 32, valid_size: float = 0.2, num_workers: int = 1, limit: int = -1\n",
    "):\n",
    "    \"\"\"\n",
    "     create and returns the train_one_epoch, validation and test data loaders.\n",
    "\n",
    "    :param batch_size: size of the mini-batches\n",
    "    :param valid_size: fraction of the dataset to use for validation.\n",
    "     For example, 0.2  means that 20% of the dataset will be used for validation\n",
    "    :param num_workers: number of workers to use in the data loaders. Use num_workers=1. \n",
    "    :param limit: maximum number of data points to consider\n",
    "    :return a dictionary with 3 keys: 'train_one_epoch', 'valid' and 'test'   \n",
    "    containing respectively the train_one_epoch, validation and test data loaders\n",
    "    \"\"\"\n",
    "\n",
    "    # We will fill this up later\n",
    "    data_loaders = {\"train\": None, \"valid\": None, \"test\": None}\n",
    "\n",
    "    base_path = Path(get_data_location())\n",
    "\n",
    "    # Compute mean and std of the dataset\n",
    "    mean, std = compute_mean_and_std()\n",
    "    print(f\"Dataset mean: {mean}, std: {std}\")\n",
    "\n",
    "    # YOUR CODE HERE:\n",
    "    # create 3 sets of data transforms: one for the training dataset,\n",
    "    # containing data augmentation, one for the validation dataset\n",
    "    # (without data augmentation) and one for the test set (again without augmentation)\n",
    "    # HINT: resize the image to 256 first, then crop them to 224, then add the\n",
    "    # appropriate transforms for that step\n",
    "    data_transforms = {\n",
    "        \"train\": \n",
    "             transforms.Compose(\n",
    "             [transforms.Resize(256),\n",
    "             transforms.RandomResizedCrop(224),\n",
    "             transforms.RandomHorizontalFlip(),\n",
    "             #transforms.RandomRotation(30),\n",
    "             transforms.ToTensor(),\n",
    "             transforms.Normalize(mean=mean, std=std)]\n",
    "            \n",
    "        ),\n",
    "        \"valid\": transforms.Compose(\n",
    "          [\n",
    "            transforms.Resize(256),\n",
    "            transforms.CenterCrop(224),\n",
    "            transforms.ToTensor(),\n",
    "            transforms.Normalize(mean=mean, std=std)\n",
    "        ]\n",
    "        ),\n",
    "        \"test\": transforms.Compose(\n",
    "           [transforms.Resize(256),\n",
    "            transforms.CenterCrop(224),\n",
    "            transforms.ToTensor(),\n",
    "            transforms.Normalize(mean=mean, std=std)]),\n",
    "    }\n",
    "\n",
    "    # Create train and validation datasets\n",
    "    train_data = datasets.ImageFolder(\n",
    "        base_path / \"train\",\n",
    "        # YOUR CODE HERE: add the appropriate transform that you defined in\n",
    "        # the data_transforms dictionary\n",
    "        transform=data_transforms['train']\n",
    "    )\n",
    "    # The validation dataset is a split from the train_one_epoch dataset, so we read\n",
    "    # from the same folder, but we apply the transforms for validation\n",
    "    valid_data = datasets.ImageFolder(\n",
    "        base_path / \"train\",\n",
    "        # YOUR CODE HERE: add the appropriate transform that you defined in\n",
    "        # the data_transforms dictionary\n",
    "          transform=data_transforms['valid']\n",
    "    )\n",
    "\n",
    "    # obtain training indices that will be used for validation\n",
    "    n_tot = len(train_data)\n",
    "    indices = torch.randperm(n_tot)\n",
    "\n",
    "    # If requested, limit the number of data points to consider\n",
    "    if limit > 0:\n",
    "        indices = indices[:limit]\n",
    "        n_tot = limit\n",
    "\n",
    "    split = int(math.ceil(valid_size * n_tot))\n",
    "    train_idx, valid_idx = indices[split:], indices[:split]\n",
    "\n",
    "    # define samplers for obtaining training and validation batches\n",
    "    train_sampler = torch.utils.data.SubsetRandomSampler(train_idx)\n",
    "    valid_sampler = torch.utils.data.SubsetRandomSampler(valid_idx)\n",
    "\n",
    "    # prepare data loaders\n",
    "    data_loaders[\"train\"] = torch.utils.data.DataLoader(\n",
    "        train_data,\n",
    "        batch_size=batch_size,\n",
    "        sampler=train_sampler,\n",
    "        num_workers=num_workers,\n",
    "    )\n",
    "    data_loaders[\"valid\"] = torch.utils.data.DataLoader(\n",
    "        valid_data,\n",
    "        batch_size=batch_size,\n",
    "        sampler=valid_sampler,\n",
    "        num_workers=num_workers,\n",
    "    )\n",
    "\n",
    "    # Now create the test data loader\n",
    "    test_data = datasets.ImageFolder(\n",
    "        base_path / \"test\",\n",
    "        # YOUR CODE HERE (add the test transform)\n",
    "         transform=data_transforms['test']\n",
    "    )\n",
    "\n",
    "    if limit > 0:\n",
    "        indices = torch.arange(limit)\n",
    "        test_sampler = torch.utils.data.SubsetRandomSampler(indices)\n",
    "    else:\n",
    "        test_sampler = None\n",
    "\n",
    "    data_loaders[\"test\"] = torch.utils.data.DataLoader(\n",
    "        # YOUR CODE HERE (remember to add shuffle=False as well)\n",
    "        test_data,\n",
    "        batch_size=batch_size,\n",
    "        sampler=test_sampler,\n",
    "        num_workers=num_workers,\n",
    "        shuffle=False\n",
    "    )\n",
    "\n",
    "    return data_loaders\n"
   ]
  },
  {
   "cell_type": "code",
   "execution_count": 29,
   "metadata": {},
   "outputs": [
    {
     "name": "stderr",
     "output_type": "stream",
     "text": [
      "Computing mean: 100%|██████████████████████| 6246/6246 [00:38<00:00, 163.85it/s]\n",
      "Computing std: 100%|███████████████████████| 6246/6246 [00:43<00:00, 144.76it/s]\n"
     ]
    },
    {
     "name": "stdout",
     "output_type": "stream",
     "text": [
      "Dataset mean: tensor([0.4638, 0.4725, 0.4687]), std: tensor([0.2697, 0.2706, 0.3017])\n"
     ]
    }
   ],
   "source": [
    "data_loaders =get_data_loaders(batch_size=5, valid_size=0.01, num_workers=4)"
   ]
  },
  {
   "cell_type": "code",
   "execution_count": 30,
   "metadata": {},
   "outputs": [],
   "source": [
    "def visualize_one_batch(data_loaders, max_n: int = 5):\n",
    "    \"\"\"\n",
    "    Visualize one batch of data.\n",
    "\n",
    "    :param data_loaders: dictionary containing data loaders\n",
    "    :param max_n: maximum number of images to show\n",
    "    :return: None\n",
    "    \"\"\"\n",
    "\n",
    "    # Obtain one batch of training images\n",
    "    # First obtain an iterator from the train dataloader\n",
    "    dataiter  = iter(data_loaders['train']) # YOUR CODE HERE\n",
    "    # Then call the .next() method on the iterator you just\n",
    "    # obtained\n",
    "    images, labels  = next(dataiter) # YOUR CODE HERE\n",
    "\n",
    "    # Undo the normalization (for visualization purposes)\n",
    "    mean, std = compute_mean_and_std()\n",
    "    invTrans = transforms.Compose(\n",
    "        [\n",
    "            transforms.Normalize(mean=[0.0, 0.0, 0.0], std=1 / std),\n",
    "            transforms.Normalize(mean=-mean, std=[1.0, 1.0, 1.0]),\n",
    "        ]\n",
    "    )\n",
    "\n",
    "    images = invTrans(images)\n",
    "\n",
    "    # YOUR CODE HERE:\n",
    "    # Get class names from the train data loader\n",
    "    class_names  = data_loaders['train'].dataset.classes # YOUR CODE HERE\n",
    "\n",
    "    # Convert from BGR (the format used by pytorch) to\n",
    "    # RGB (the format expected by matplotlib)\n",
    "    images = torch.permute(images, (0, 2, 3, 1)).clip(0, 1)\n",
    "\n",
    "    # plot the images in the batch, along with the corresponding labels\n",
    "    fig = plt.figure(figsize=(25, 4))\n",
    "    for idx in range(max_n):\n",
    "        ax = fig.add_subplot(1, max_n, idx + 1, xticks=[], yticks=[])\n",
    "        ax.imshow(images[idx])\n",
    "        # print out the correct label for each image\n",
    "        # .item() gets the value contained in a Tensor\n",
    "        ax.set_title(class_names[labels[idx].item()])\n"
   ]
  }
 ],
 "metadata": {
  "kernelspec": {
   "display_name": "cnn_classify",
   "language": "python",
   "name": "cnn_classfify"
  },
  "language_info": {
   "codemirror_mode": {
    "name": "ipython",
    "version": 3
   },
   "file_extension": ".py",
   "mimetype": "text/x-python",
   "name": "python",
   "nbconvert_exporter": "python",
   "pygments_lexer": "ipython3",
   "version": "3.10.16"
  }
 },
 "nbformat": 4,
 "nbformat_minor": 2
}
