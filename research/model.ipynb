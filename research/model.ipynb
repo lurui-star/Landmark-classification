{
 "cells": [
  {
   "cell_type": "code",
   "execution_count": 1,
   "metadata": {},
   "outputs": [],
   "source": [
    "import torch\n",
    "import torch.nn as nn"
   ]
  },
  {
   "cell_type": "code",
   "execution_count": 2,
   "metadata": {},
   "outputs": [],
   "source": [
    "###Single conv block\n",
    "\n",
    "def conv_dw(in_channels, out_channels, stride):\n",
    "    return nn.Sequential(\n",
    "        nn.Conv2d(in_channels, in_channels, 3, stride=stride, padding=1, groups=in_channels, bias=False),\n",
    "        nn.BatchNorm2d(in_channels),\n",
    "        nn.ReLU6(inplace=True),\n",
    "        nn.Conv2d(in_channels, out_channels, 1, stride=1, padding=0, bias=False),\n",
    "        nn.BatchNorm2d(out_channels),\n",
    "        nn.ReLU6(inplace=True)\n",
    "    )"
   ]
  },
  {
   "cell_type": "code",
   "execution_count": 3,
   "metadata": {},
   "outputs": [],
   "source": [
    "\n",
    "# Define the CNN architecture\n",
    "class MyModel(nn.Module):\n",
    "    def __init__(self, num_classes: int = 1000, dropout: float = 0.7) -> None:\n",
    "        super().__init__()\n",
    "\n",
    "        # Define the feature extractor part of the model\n",
    "        self.model = nn.Sequential(\n",
    "            nn.Conv2d(3, 32, 3, stride=2, padding=1, bias=False),  # First convolution layer\n",
    "            nn.BatchNorm2d(32),\n",
    "            nn.ReLU6(inplace=True),\n",
    "\n",
    "            # Depthwise separable convolutions\n",
    "            conv_dw(32, 64, 1),\n",
    "            conv_dw(64, 128, 2),\n",
    "            conv_dw(128, 128, 1),\n",
    "            conv_dw(128, 256, 2),\n",
    "            conv_dw(256, 256, 1),\n",
    "            conv_dw(256, 512, 2),\n",
    "            conv_dw(512, 512, 1),\n",
    "            conv_dw(512, 512, 1),\n",
    "            conv_dw(512, 512, 1),\n",
    "            conv_dw(512, 512, 1),\n",
    "            conv_dw(512, 512, 1),\n",
    "            conv_dw(512, 1024, 2),\n",
    "            conv_dw(1024, 1024, 1),\n",
    "\n",
    "            nn.AdaptiveAvgPool2d(1)  # Global average pooling\n",
    "        )\n",
    "        \n",
    "        # Define the classifier part of the model\n",
    "        self.classifier = nn.Sequential(\n",
    "            nn.Dropout(dropout),  # Dropout layer\n",
    "            nn.Linear(1024, num_classes)  # Fully connected layer\n",
    "        )\n",
    "\n",
    "    def forward(self, x: torch.Tensor) -> torch.Tensor:\n",
    "        # Process the input through the feature extractor and classifier\n",
    "        x = self.model(x)  # Pass through the feature extractor\n",
    "        x = x.view(x.size(0), -1)  # Flatten the output\n",
    "        x = self.classifier(x)  # Pass through the classifier\n",
    "        return x"
   ]
  },
  {
   "cell_type": "code",
   "execution_count": null,
   "metadata": {},
   "outputs": [],
   "source": []
  }
 ],
 "metadata": {
  "kernelspec": {
   "display_name": "cnn_classify",
   "language": "python",
   "name": "cnn_classfify"
  },
  "language_info": {
   "codemirror_mode": {
    "name": "ipython",
    "version": 3
   },
   "file_extension": ".py",
   "mimetype": "text/x-python",
   "name": "python",
   "nbconvert_exporter": "python",
   "pygments_lexer": "ipython3",
   "version": "3.10.16"
  }
 },
 "nbformat": 4,
 "nbformat_minor": 2
}
