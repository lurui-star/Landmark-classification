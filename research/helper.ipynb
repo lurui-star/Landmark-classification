{
 "cells": [
  {
   "cell_type": "code",
   "execution_count": 3,
   "metadata": {},
   "outputs": [],
   "source": [
    "from io import BytesIO\n",
    "import urllib.request\n",
    "from zipfile import ZipFile\n",
    "import os\n",
    "import torch\n",
    "import torch.utils.data\n",
    "from torchvision import datasets, transforms\n",
    "from tqdm import tqdm\n",
    "import multiprocessing\n",
    "import matplotlib.pyplot as plt\n",
    "import concurrent.futures\n",
    "import numpy as np\n",
    "import random\n"
   ]
  },
  {
   "cell_type": "code",
   "execution_count": 4,
   "metadata": {},
   "outputs": [],
   "source": [
    "def setup_env():\n",
    "    use_cuda = torch.cuda.is_available()\n",
    "\n",
    "    if use_cuda:\n",
    "        print(\"GPU available\")\n",
    "    else:\n",
    "        print(\"GPU *NOT* available. Will use CPU (slow)\")\n",
    "\n",
    "    # Seed random generator for repeatibility\n",
    "    seed = 42\n",
    "    random.seed(seed)\n",
    "    np.random.seed(seed)\n",
    "    torch.manual_seed(seed)\n",
    "    torch.cuda.manual_seed_all(seed)\n",
    "\n",
    "    # Download data if not present already\n",
    "    download_and_extract()\n",
    "    compute_mean_and_std_concurrent()\n",
    "\n",
    "    # Make checkpoints subdir if not existing\n",
    "    os.makedirs(\"checkpoints\", exist_ok=True)\n",
    "    \n",
    "    # Make sure we can reach the installed binaries. This is needed for the workspace\n",
    "    if os.path.exists(\"/data/DLND/C2/landmark_images\"):\n",
    "        os.environ['PATH'] = f\"{os.environ['PATH']}:/root/.local/bin\""
   ]
  },
  {
   "cell_type": "code",
   "execution_count": null,
   "metadata": {},
   "outputs": [],
   "source": []
  }
 ],
 "metadata": {
  "kernelspec": {
   "display_name": "cnn_classify",
   "language": "python",
   "name": "cnn_classfify"
  },
  "language_info": {
   "codemirror_mode": {
    "name": "ipython",
    "version": 3
   },
   "file_extension": ".py",
   "mimetype": "text/x-python",
   "name": "python",
   "nbconvert_exporter": "python",
   "pygments_lexer": "ipython3",
   "version": "3.10.16"
  }
 },
 "nbformat": 4,
 "nbformat_minor": 2
}
